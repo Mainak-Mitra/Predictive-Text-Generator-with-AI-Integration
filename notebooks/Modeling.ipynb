{
 "cells": [
  {
   "cell_type": "code",
   "execution_count": null,
   "metadata": {},
   "outputs": [],
   "source": []
  },
  {
   "cell_type": "markdown",
   "metadata": {},
   "source": [
    "get_predictive_text_suggestions and complete_text. The first function takes a prefix as an argument and returns a random suggestion from an ngram model. The second function takes a prompt as an argument and combines it with the predictive text suggestion and the ChatGPT response. You are using the OpenAI module to access the text-davinci-003 model. "
   ]
  }
 ],
 "metadata": {
  "language_info": {
   "name": "python"
  }
 },
 "nbformat": 4,
 "nbformat_minor": 2
}
